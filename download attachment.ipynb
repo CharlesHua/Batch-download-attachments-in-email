{
 "cells": [
  {
   "cell_type": "code",
   "execution_count": null,
   "metadata": {},
   "outputs": [],
   "source": [
    "import os\n",
    "import sys\n",
    "import email\n",
    "from imapclient import IMAPClient"
   ]
  },
  {
   "cell_type": "code",
   "execution_count": null,
   "metadata": {},
   "outputs": [],
   "source": [
    "hostname = 'mail.ustc.edu.cn'\n",
    "username = 'huajn@mail.ustc.edu.cn'\n",
    "password = None\n",
    "dest_dir = r'E:\\TA\\homework\\download' # 文件保存地址，要求存在\n",
    "existing_file_list = os.listdir(dest_dir)\n",
    "cover_same_name_file = False\n",
    "\n",
    "if password==None:\n",
    "    password = input('Input password:')\n",
    "    \n",
    "print(existing_file_list)"
   ]
  },
  {
   "cell_type": "code",
   "execution_count": null,
   "metadata": {},
   "outputs": [],
   "source": [
    "imap = IMAPClient(hostname, ssl=True)\n",
    "try:\n",
    "    imap.login(username, password)\n",
    "except imap.Error:\n",
    "    print('Logon failed')\n",
    "    os.system('pause')\n",
    "    sys.exit(1)"
   ]
  },
  {
   "cell_type": "code",
   "execution_count": null,
   "metadata": {},
   "outputs": [],
   "source": [
    "imap.select_folder('hw', readonly=True) #第一个参数是邮件所在的文件夹，收件箱对应‘Inbox’\n",
    "result = imap.search('UNSEEN')\n",
    "print(\"Total email number:\", len(result))\n",
    "\n",
    "msgdict = imap.fetch(result, ['BODY.PEEK[]'])"
   ]
  },
  {
   "cell_type": "code",
   "execution_count": null,
   "metadata": {},
   "outputs": [],
   "source": [
    "for message_id, message in msgdict.items():\n",
    "    print()\n",
    "    e = email.message_from_string(message[b'BODY[]'].decode('utf-8'))\n",
    "    \n",
    "    subject = email.header.make_header(email.header.decode_header(e['SUBJECT']))\n",
    "    mail_from = email.header.make_header(email.header.decode_header(e['From']))\n",
    "\n",
    "    print(\"Subject:\",subject)\n",
    "    print(\"From:\",mail_from)\n",
    "    \n",
    "    for part in e.walk():\n",
    "        if part.is_multipart():\n",
    "            continue\n",
    "        if part.get('Content-Disposition') is None:\n",
    "            continue #跳过没有附件部分\n",
    "\n",
    "        file_data = part.get_payload(decode=True)\n",
    "\n",
    "        file_name = part.get_filename()\n",
    "        dename = email.header.decode_header(file_name)[0] # 函数返回一个只有一项的list\n",
    "\n",
    "        # dename=(编码后的文件名，编码方式)\n",
    "        if dename[1]==None: #不用解码\n",
    "            name = dename[0]\n",
    "        else: #解码并存为str\n",
    "            name = str(dename[0], dename[1]) \n",
    "\n",
    "        if name in existing_file_list and cover_same_name_file == False:\n",
    "            print(\"File\",name, \"has existed\")\n",
    "            continue\n",
    "\n",
    "        print(\"downloading\", name)\n",
    "        name_b = name.encode('utf-8') #转码为bytes\n",
    "     \n",
    "        os.chdir(dest_dir)\n",
    "        try:\n",
    "            with open(name_b, 'wb') as fp:\n",
    "                fp.write(file_data)\n",
    "                existing_file_list.append(name)\n",
    "        except:\n",
    "            print(\"Download failed\")"
   ]
  },
  {
   "cell_type": "code",
   "execution_count": null,
   "metadata": {},
   "outputs": [],
   "source": [
    "imap.logout()"
   ]
  }
 ],
 "metadata": {
  "kernelspec": {
   "display_name": "Python 3",
   "language": "python",
   "name": "python3"
  },
  "language_info": {
   "codemirror_mode": {
    "name": "ipython",
    "version": 3
   },
   "file_extension": ".py",
   "mimetype": "text/x-python",
   "name": "python",
   "nbconvert_exporter": "python",
   "pygments_lexer": "ipython3",
   "version": "3.6.4"
  }
 },
 "nbformat": 4,
 "nbformat_minor": 2
}
